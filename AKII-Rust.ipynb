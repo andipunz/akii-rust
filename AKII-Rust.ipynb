{
 "cells": [
  {
   "cell_type": "markdown",
   "metadata": {
    "slideshow": {
     "slide_type": "slide"
    }
   },
   "source": [
    "# Robuste Programmierung mit Rust\n",
    "## Memory Safe, Type Safe, Performant - Pick Three\n",
    "### Dorian A. Prill | FH Salzburg | Department IT\n",
    "  \n",
    "<img align=\"left\" src=\"https://upload.wikimedia.org/wikipedia/commons/thumb/d/d5/Rust_programming_language_black_logo.svg/1024px-Rust_programming_language_black_logo.svg.png\" width=\"350\" height=\"350\" />\n",
    "<img align=\"left\" width=\"200\" height=\"200\" src=\"https://rustacean.net/assets/rustacean-orig-noshadow.svg\"> \n"
   ]
  },
  {
   "cell_type": "markdown",
   "metadata": {
    "jp-MarkdownHeadingCollapsed": true,
    "slideshow": {
     "slide_type": "subslide"
    }
   },
   "source": [
    "# In diesem Workshop beantworten wir\n",
    "- Warum sollte ich mit mit neuen Werkzeugen befassen?\n",
    "\n",
    "- Was bedeutet Memory/Type safety?\n",
    "\n",
    "- Warum ist das ein Problem?\n",
    "\n",
    "- Welche Lösungen gibt es allgemein?\n",
    "\n",
    "- Warum Rust statt XYZ?\n",
    "\n",
    "- Wann nicht Rust?\n",
    "\n",
    "- Ausgewählte Beispiele vs C/C++ (Appetizer)"
   ]
  },
  {
   "cell_type": "markdown",
   "metadata": {
    "slideshow": {
     "slide_type": "subslide"
    }
   },
   "source": [
    "# Warum sollte ich mich mit neuen Werkzeugen befassen?\n",
    "\n",
    "- Generell ermöglichen bessere Werkzeuge überhaupt erst die Verbesserung von Prozess und Produkt  \n",
    "- Mit Speer, Keil, Feuer (nicht notwendigerweise in dieser Reihenfolge) fing unsere Zivilisation an  \n",
    "- Werkzeuge funktionieren am besten in einer Nische, müssen in der Praxis jedoch ein Spektrum abdecken (\"Two-Language-Problem\") \n",
    "- Fertigung: Weniger Verschnitt, kürzere Produktionszeiten, oder ganz neue Technologien (Additive Manufacturing)  \n",
    "- Software im Großen und Ganzen: Produktiver (Mehr Abstraktion) bei gleicher oder besserer Ausführgeschw. Komerziell weniger wichtig war bisher die Sicherheit (Safety -> Security). "
   ]
  },
  {
   "cell_type": "markdown",
   "metadata": {
    "slideshow": {
     "slide_type": "slide"
    }
   },
   "source": [
    "## Reminder: Was sind Memory und Type Safety?\n",
    "- **Memory Safety** is the state of being protected from various software bugs and security vulnerabilities when dealing with memory access, such as buffer overflows and dangling pointers[\\[1\\]](https://en.wikipedia.org/wiki/Memory_safety#cite_note-Adve-1). (Kein deutschsprachiger Artikel vorhanden). Memory Safety kann weitreichende Folgen haben, man kann unterscheiden in \n",
    "    - Räumliche Abh. (Out-Of-Bounds Fehler) \n",
    "    - Zeitliche Abh. (Use-After-Free)\n",
    "    - Zugriffsabh.   (Data-Races)  \n",
    "    \n",
    " Um dies zu gewährleisten, benötigen wir auch \n",
    "\n",
    "\n",
    "- **Type Safety** bezeichnet den Zustand (einer Programmausführung), bei dem die Datentypen gemäß ihren Definitionen in der benutzten Programmiersprache verwendet werden und keine Typverletzungen auftreten.[\\[2\\]](https://de.wikipedia.org/wiki/Typsicherheit). Type Safety verbietet in der Regel die Null Referenz und verhindert somit einige Segfaults, Use-After-Free, Double-Free und weitere Fehler und mindert so die Angriffsoberfläche.\n",
    "\n",
    "Tony Hoare selbst nennt seine Erfindung der Null Referenz seinen [\"billion-dollar mistake\"](https://www.infoq.com/presentations/Null-References-The-Billion-Dollar-Mistake-Tony-Hoare/) (Ironischerweise teilt Rusts Initiator Graydon Hoare ebenfalls den Namen, es besteht jedoch keine Verwandtschaft)"
   ]
  },
  {
   "cell_type": "markdown",
   "metadata": {},
   "source": [
    "# Memory Safety offiziell \n",
    "## Teil der US-amerikanischen National Security Agency (NSA) \"Best Practices\" und White House Cybersecurity-Policy\n",
    "\n",
    "> “We have to consistently use memory safe languages and other protections when developing software to eliminate these weaknesses from malicious cyber actors.”\n",
    "\n",
    "[NSA Press Release Nov 2022](https://www.nsa.gov/Press-Room/News-Highlights/Article/Article/3215760/nsa-releases-guidance-on-how-to-protect-against-software-memory-safety-issues/)\n",
    "\n",
    "\n",
    "> Cybersecurity solutions should be informed by engineering best practices, and technology\n",
    "manufacturers building software can tackle this issue by consistently using secure building blocks;\n",
    "specifically, adopting memory safe programming languages. There is strong evidence that now is\n",
    "the time to make these changes. First, technical solutions already exist; there are dozens of memory\n",
    "safe programming languages that can – and should – be used.\n",
    "\n",
    "[White House Publication Feb 2024](https://www.whitehouse.gov/wp-content/uploads/2024/02/Final-ONCD-Technical-Report.pdf)"
   ]
  },
  {
   "cell_type": "markdown",
   "metadata": {
    "slideshow": {
     "slide_type": "subslide"
    }
   },
   "source": [
    "# Beispiel: Dies ist valider C++ Code\n",
    "```cpp  \n",
    "#include <vector>\n",
    "#include <iostream>\n",
    "\n",
    "int main() {\n",
    "    std::vector<int> vec = {1, 2, 3, 4, 5};\n",
    "\n",
    "    int& ref = vec[0];\n",
    "\n",
    "    vec.push_back(6);\n",
    "\n",
    "    std::cout << \"Ref: \" << ref << std::endl;\n",
    "\n",
    "    return 0;\n",
    "}\n",
    "```\n",
    "Wo ist hier das Problem?"
   ]
  },
  {
   "cell_type": "markdown",
   "metadata": {
    "slideshow": {
     "slide_type": "subslide"
    }
   },
   "source": [
    "# Beispiel: Dies ist *invalider* Rust Code\n",
    "\n",
    "```rust\n",
    "fn main() {\n",
    "    let mut vec = vec![1, 2, 3, 4, 5];\n",
    "\n",
    "    // Immutably borrow an element from the vector\n",
    "    let ref_element = &vec[0];\n",
    "\n",
    "    // Try to modify the vector while the immutable borrow exists\n",
    "    vec.push(6); // Compile-time error!\n",
    "\n",
    "    println!(\"Ref: {}\", ref_element);\n",
    "}\n",
    "```\n",
    "Kompiliert nicht, Fehlermeldung:"
   ]
  },
  {
   "cell_type": "markdown",
   "metadata": {
    "slideshow": {
     "slide_type": "subslide"
    }
   },
   "source": [
    "```\n",
    "error[E0502]: cannot borrow `vec` as mutable because it is also borrowed as immutable\n",
    "  --> src/main.rs:8:5\n",
    "   |\n",
    "5  |     let ref_element = &vec[0];\n",
    "   |                        --- immutable borrow occurs here\n",
    "...\n",
    "8  |     vec.push(6); // Compile-time error!\n",
    "   |     ^^^^^^^^^^^ mutable borrow occurs here\n",
    "9  |\n",
    "10 |     println!(\"Ref: {}\", ref_element);\n",
    "   |                         ----------- immutable borrow later used here\n",
    "\n",
    "For more information about this error, try `rustc --explain E0502`.\n",
    "```"
   ]
  },
  {
   "cell_type": "markdown",
   "metadata": {
    "slideshow": {
     "slide_type": "subslide"
    }
   },
   "source": [
    "# Beispiel: Initialisierungszwang\n",
    "\n",
    "```rust\n",
    "fn main() {\n",
    "    let x: i32;\n",
    "    println!(\"{}\", x);\n",
    "}\n",
    "```\n",
    "\n",
    "```\n",
    "error[E0381]: borrow of possibly-uninitialized variable: `x`\n",
    " --> src/main.rs:3:20\n",
    "  |\n",
    "3 |     println!(\"{}\", x);\n",
    "  |                    ^ borrow of possibly-uninitialized variable\n",
    "```\n",
    "\n",
    "```cpp\n",
    "#include <iostream>\n",
    "int main() {\n",
    "    int x;\n",
    "    std::cout << x << std::endl;\n",
    "}\n",
    "```\n",
    "Funktioniert, gibt jedoch keinen sinnvollen Wert aus."
   ]
  },
  {
   "cell_type": "markdown",
   "metadata": {
    "jp-MarkdownHeadingCollapsed": true,
    "slideshow": {
     "slide_type": "slide"
    }
   },
   "source": [
    "## Memory Safety bei Microsoft\n",
    "![microsoft_memory_cve](./resource/images/microsoft_study_cve_memsafety.png)\n",
    "Quelle: Microsoft Security Response Center [Blog 1](https://msrc-blog.microsoft.com/2019/07/18/we-need-a-safer-systems-programming-language/) und [Blog 2](https://msrc-blog.microsoft.com/2019/07/16/a-proactive-approach-to-more-secure-code/) und \n",
    "[Ausführliche Präsentation](https://github.com/microsoft/MSRC-Security-Research/tree/master/presentations/2019_02_BlueHatIL) (siehe Slide 10).   \n",
    "Grafik wurde nicht erneuert für 2019-2020, Aktuelle Fallzahlen legen nahe, dass der Einsatz von Rust diese Fehlerquelle reduziert/mitigiert (Siehe Beispiel Android später)"
   ]
  },
  {
   "cell_type": "markdown",
   "metadata": {
    "slideshow": {
     "slide_type": "subslide"
    }
   },
   "source": [
    "## Memory Safety in Chromium\n",
    "![chromium_memory_cve](https://www.chromium.org/Home/chromium-security/memory-safety/piechart.png) \n",
    "\n",
    "\"These bugs are spread evenly across our codebase, and a high proportion of our non-security stability bugs share the same types of root cause. As well as risking our users’ security, these bugs have real costs in how we fix and ship Chrome.\"\n",
    "Quelle: [The Chromium Project](https://www.chromium.org/Home/chromium-security/memory-safety).\n",
    "\n",
    "Vorschläge des Projekts: Safety Bibliotheken/Dialekte in C++ und sichere Sprachen"
   ]
  },
  {
   "cell_type": "markdown",
   "metadata": {
    "slideshow": {
     "slide_type": "subslide"
    }
   },
   "source": [
    "# Mehr Memory (Un-)Safety\n",
    "- Firefox CSS Subsystem 73.9 % der Sicherheitslücken [Quelle](https://hacks.mozilla.org/2019/02/rewriting-a-browser-component-in-rust/)\n",
    "- iOS: 66.3 %  und  macOS: 71.5 % aller Sicherheitslücken [Quelle](https://langui.sh/2019/07/23/apple-memory-safety/)\n",
    "- Eine erweiterte Zusammenfassung ist [bei Alex Gaynor (unaffiliated) zu finden](https://alexgaynor.net/2020/may/27/science-on-memory-unsafety-and-security/)\n",
    "\n",
    "Nachdem wir nun empirische Beweise gesammelt haben, stellen wir eben diese Beweislage gegenüber gängiger Meinung/Praxis"
   ]
  },
  {
   "cell_type": "markdown",
   "metadata": {
    "slideshow": {
     "slide_type": "subslide"
    }
   },
   "source": [
    "## Gängige Hypothese\n",
    "> \"Gute C/C++ Programmierer, wissen wie man Fehler vermeidet.\""
   ]
  },
  {
   "cell_type": "markdown",
   "metadata": {
    "slideshow": {
     "slide_type": "fragment"
    }
   },
   "source": [
    "## Erklärung 1\n",
    "~70% *aller* C/C++ Programme werden folglich nicht von C/C++ Programmierern geschrieben."
   ]
  },
  {
   "cell_type": "markdown",
   "metadata": {
    "slideshow": {
     "slide_type": "fragment"
    }
   },
   "source": [
    "## Erklärung 2\n",
    "~70% *aller* C/C++ Programmierer sind folglich keine \"guten\" Programmierer. "
   ]
  },
  {
   "cell_type": "markdown",
   "metadata": {
    "slideshow": {
     "slide_type": "fragment"
    }
   },
   "source": [
    "(shamelessly stolen from Ryan Levick)"
   ]
  },
  {
   "cell_type": "markdown",
   "metadata": {
    "slideshow": {
     "slide_type": "subslide"
    }
   },
   "source": [
    "# Was bedeutet Memory Safety für mein Unternehmen?\n",
    "- CVE steht für Common Vulnerabilities and Exposures, also ausnutzbare Sicherheitslücken!\n",
    "- Personenbezogene Daten als (kostspielige) Verantwortung: GDPR (General Data Protection Regulation)\n",
    "- Kritische Steuerungsanwendungen (Energie, Autonome Fahrzeuge, IoT Geräte)\n",
    "- Lange Lebenszyklen profitieren besonders von robuster Software (Wartbarkeit)"
   ]
  },
  {
   "cell_type": "markdown",
   "metadata": {
    "slideshow": {
     "slide_type": "subslide"
    }
   },
   "source": [
    "## Nutzung in bekannten Unternehmen\n",
    "- Mozilla (Firefox/Servo, WebRender)\n",
    "- Microsoft (Azure/IoT Products angeblich noch weitere *Ryan Levick)\n",
    "- Dropbox ([Sync Engine](https://www.wired.com/2016/03/epic-story-dropboxs-exodus-amazon-cloud-empire/)) \n",
    "- NPM Server (JavaScript Paket-Manager) \n",
    "- Facebook (Libra Blockchain)\n",
    "- Amazon AWS Nitro ([Jobangebot](https://aws.amazon.com/blogs/opensource/why-aws-loves-rust-and-how-wed-like-to-help/))\n",
    "- Google (Android, others)\n",
    "\n",
    "Für alle diese Projekte ist Performanz und Sicherheit wichtig. Zudem sind die Großunternehmen nicht nur auf den Wagen aufgesprungen, sondern haben sogar Pferde davorgespannt, indem sie die Rust Foundation fördern."
   ]
  },
  {
   "cell_type": "markdown",
   "metadata": {
    "slideshow": {
     "slide_type": "subslide"
    }
   },
   "source": [
    "# Aktuelles Beispiel: Google Android\n",
    "Aus dem [Google Security Blog](https://security.googleblog.com/2022/12/memory-safe-languages-in-android-13.html):  \n",
    ">   Android 13 is the first Android release where a majority of new code added to the release is in a memory safe language  \n",
    "    ...  \n",
    "    2022 is the first year where memory safety vulnerabilities do not represent a majority of Android’s vulnerabilities  \n",
    "    ...  \n",
    "    To date, there have been zero memory safety vulnerabilities discovered in Android’s Rust code.\n",
    "    \n",
    " Memory-Safe Sprachen in Android sind Java/Kotlin/Rust, mit dem groessten Anteil in Java. Rust wird besonders für low-level Komponenten verwendet, wie Kernel/-Module.\n"
   ]
  },
  {
   "cell_type": "markdown",
   "metadata": {
    "slideshow": {
     "slide_type": "subslide"
    }
   },
   "source": [
    "> In Android 13, about 21% of all new native code (C/C++/Rust) is in Rust. There are approximately 1.5 million total lines of Rustcode in AOSP... To date, there have been zero memory safety vulnerabilities discovered in Android’s Rust code. ... It demonstrates that Rust is fulfilling its intended purpose of preventing Android’s most common source of vulnerabilities. ... Historical vulnerability density is greater than 1/kLOC (1 vulnerability per thousand lines of code) ... Based on this historical vulnerability density, it’s likely that using Rust has already prevented hundreds of vulnerabilities from reaching production.\n",
    "\n",
    "Google's Strategie ist\n",
    "\n",
    "> ... our goal is not to convert existing C/C++ to Rust, but rather to shift development of new code to memory safe languages over time. \n",
    "\n",
    "Ähnliches passiert auch bei Microsoft (Win11 GraphicsDeviceInterface und SysCall lt. R. Levick und D. Weston)"
   ]
  },
  {
   "cell_type": "markdown",
   "metadata": {
    "slideshow": {
     "slide_type": "slide"
    }
   },
   "source": [
    "# Warum Rust und nicht ...? I\n",
    "|                    | Rust                | C++                    | C\\#                 | Swift      | Golang     | Ada                  |\n",
    "| ------------------ |:-------------------:|:---------------------:|:-------------------:|:----------:|:----------:|:--------------------:|\n",
    "| Build Tools        | ja (cargo)          | 3rd party              | ja (MSBuild)        | ja         | ja         | ja (GNAT, gprbuild)  |\n",
    "| Paketmanager       | ja, (cargo)         | 3rd party              | ja (NuGet)          | ja         | ja         | nein (3rd party Lösungen vorhanden) |\n",
    "| Memory Management  | semi-manuell        | manuell  (semi durch libs)              | auto (GC)           | semi-auto (rc+manuell) | auto (GC)   | manuell/semi-manuell |\n",
    "| Spatial Safety     | ja                  | nein/begrenzt (Libs, ext. Werkzg., Dialekte) | ja          | ja         | ja         | ja                    |\n",
    "| Temporal Safety    | ja                  | nein/begrenzt,(Libs, ext. Werkzg., Dialekte) | ja          | ja         | ja         | ja                    |\n",
    "| Zugriffsicherheit  | ja                  | nein                   | nein ([CHESS](https://www.microsoft.com/en-us/research/wp-content/uploads/2016/02/chess-chesspldi2009tutorial.pdf)) | nein  | nein       | ja                    |\n",
    "| Null-Safety        | ja                  | nein                   | ja, seit C\\# 8      | ja         | nein       | ja (mittels Ada 2012 Aspects) |\n",
    " \n",
    "\n",
    "\n",
    "Für Sprachen, bei denen die Safety-Features nicht bestehen, können Programme zur statischen Analyse helfen. Diese können allerdings nicht alle Fehler finden. Beispiele: [List of Static Analyzers](https://github.com/analysis-tools-dev/static-analysis#c)\n",
    "Dynamische Analyse bez. Performance und Input Handling müssen trotzdem noch zur Laufzeit durchgeführt werden (Fuzzer, Valgrind, Flamegraph etc.)"
   ]
  },
  {
   "cell_type": "markdown",
   "metadata": {
    "slideshow": {
     "slide_type": "subslide"
    }
   },
   "source": [
    "# Warum Rust und nicht ...? II\n",
    "Rust ist also ideal geeignet für Anwendungen, in denen traditionell Sprachen wie C/C++/Ada/Fortran verwendet werden, wildert durch die moderne Ergonomie aber auch in den \"unteren\" Bereichen der Managed Sprachen. Gleichzeitig hebt es sich durch die nicht benötigte Garbage Collection (=bessere Performanz) ab.\n",
    "\n",
    "Bisher gab es eigentlich nur drei Zertifizierungen für diesen Bereich durch:\n",
    "- [MISRA C](https://misra.org.uk/) (Autoindustrie, Raumfahrt)\n",
    "- [AUTOSAR C++](https://www.autosar.org/standards/classic-platform) (Autoindustrie)\n",
    "- [Ada/SPARK](https://www.adacore.com/about-spark) (Raumfahrt- und Verteidigungsindustrie)\n",
    "\n",
    "Rust hat mittlerweile auch eine zertifizierte Toolchain für sicherheitskritische Anwendungen, welche in diese Bereichen vordringen will:\n",
    "- aktuell: ISO 26262 (ASIL D) und IEC 61508 (SIL 4)\n",
    "- geplant: DO-178C, ISO 21434 und IEC 62278"
   ]
  },
  {
   "cell_type": "markdown",
   "metadata": {
    "slideshow": {
     "slide_type": "subslide"
    }
   },
   "source": [
    "# Wann nicht Rust?\n",
    "\n",
    "- Wenn Ihre Anforderungen durch Managed-Sprachen ausreichend abgedeckt sind (C\\#, Java) -> Einheitliches Ökosystem, geringere Einarbeitungskosten\n",
    "- Wenn Sie auf bestehenden Code aufbauen, der nicht in Rust geschrieben ist und realistisch nicht umgeschrieben werden kann (z.B. COBOL + Zertifizierungen)\n",
    "- Wenn Ihr Produkt auf eine stabile ABI (Application Binary Interface) angewiesen ist (die z.B. C/Ada bietet)\n",
    "- Ihre Arbeit hauptsächlich bestehende Komponenten integriert bzw. auf Frameworks aufbaut (Data Science, Web Development, Game Development)\n",
    "- Wenn zeitliche und finanzielle Ressourcen begrenzt sind und die Einarbeitung in Rust zu lange dauern würde bzw. Entwickler zu teuer sind"
   ]
  },
  {
   "cell_type": "markdown",
   "metadata": {
    "slideshow": {
     "slide_type": "subslide"
    }
   },
   "source": [
    "## Kleingedrucktes \n",
    "- Data Races in Rust können ohne unsafe{..} weder räumliche noch zeitliche Sicherheit verletzen!\n",
    "- Rust threads können trotzdem im Deadlock enden. Die Garantie gilt nur für shared Memory Safety.\n",
    "- Rusts Sicherheit bezahlt man mit Implementierungs- und Compile-Zeit (spart aber an Debugging).  \n",
    "- Slices in Rust kennen ihre eigene Größe und verursachen Panics statt ausnutzbare Out-Of-Bounds Fehler.  \n",
    "- Rust hat (noch) keine Spezifikation, ist also für bestimmte Bereiche noch nicht geeignet (nicht wie Ada/SPARK)\n",
    "- NEU: Rust hat mit Ferrocene jetzt einen zertifizierten Compiler\n",
    "- Rust ist so schnell wie C/C++, dank sog. Zero-Cost-Abstractions"
   ]
  },
  {
   "cell_type": "markdown",
   "metadata": {
    "slideshow": {
     "slide_type": "fragment"
    }
   },
   "source": [
    "### In der Regel gilt: Kompiliert das Programm, führt es zu _keinem unkontrollierten(!)_ Programmabsturz"
   ]
  },
  {
   "cell_type": "markdown",
   "metadata": {},
   "source": [
    "# Empfohlene Installation\n",
    "\n",
    "- [rustup](https://rustup.rs/) (Rust Toolchain Manager)\n",
    "- [Visual Studio Code](https://code.visualstudio.com/) (IDEtor :)\n",
    "- [VSCode Plugin rust-analyzer](https://marketplace.visualstudio.com/items?itemName=matklad.rust-analyzer) (VSCode Extension)\n",
    "- [VSCode Plugin crates](https://marketplace.visualstudio.com/items?itemName=serayuzgur.crates) (VSCode Extension) (Library Version (\"crate\" in Rust) Management)\n",
    "- [VSCode Plugin CodeLLDB](https://marketplace.visualstudio.com/items?itemName=vadimcn.vscode-lldb) (VSCode Extension) (LLVM Debugger)\n",
    "- [VSCode Plugin Even Better TOML](https://marketplace.visualstudio.com/items?itemName=tamasfe.even-better-toml) (VSCode Extension) (TOML Syntax Highlighting)\n",
    "\n",
    "Jetzt wollen wir ein einfaches Projekt anlegen und kompilieren."
   ]
  },
  {
   "cell_type": "markdown",
   "metadata": {
    "slideshow": {
     "slide_type": "slide"
    }
   },
   "source": [
    "# Konzept Ownership\n",
    "1. Zu jedem Wert in Rust gibt es Variable, die ihn Besitzt\n",
    "2. Es kann immer nur einen Besitzer zur Zeit geben\n",
    "3. Wenn der Gültigkeitsbereich des Besitzers verlassen wird, wird der Wert fallengelassen"
   ]
  },
  {
   "cell_type": "markdown",
   "metadata": {
    "slideshow": {
     "slide_type": "subslide"
    }
   },
   "source": [
    "## Gültigkeitsbereiche von Variablen\n",
    "Value Scope: Referenz auf ein String Literal '&str' auf dem Stack"
   ]
  },
  {
   "cell_type": "code",
   "execution_count": null,
   "metadata": {
    "slideshow": {
     "slide_type": "fragment"
    }
   },
   "outputs": [],
   "source": [
    "{                            // s gilt hier nicht, es wurde noch nicht deklariert\n",
    "    let s = \"bonjour.\";      // ab diesem Punkt gilt die Variable s\n",
    "    s.to_uppercase();        // string Operation erzeugt einen neuen 'String', da string literale immutable sind\n",
    "    println!(\"{}\",s) \n",
    "}                            // Gültigkeitsbereich von s vorbei"
   ]
  },
  {
   "cell_type": "markdown",
   "metadata": {
    "slideshow": {
     "slide_type": "fragment"
    }
   },
   "source": [
    "Der Heap String Typ kann dagegen verändert werden:"
   ]
  },
  {
   "cell_type": "code",
   "execution_count": null,
   "metadata": {
    "slideshow": {
     "slide_type": "fragment"
    }
   },
   "outputs": [],
   "source": [
    "{\n",
    "let mut s = String::from(\"Moin\");         // Speicher wird vom Allokator \"ausgeliehen\"\n",
    "\n",
    "s.push_str(\", Servus, Grüzi und Hallo!\"); // push_str() fügt ein Literal and den String an\n",
    "\n",
    "println!(\"{}\", s);\n",
    "}                                         // Gültigkeitsbereich von s endet, Speicher wird autom. zurückgegeben (drop())"
   ]
  },
  {
   "cell_type": "markdown",
   "metadata": {
    "slideshow": {
     "slide_type": "fragment"
    }
   },
   "source": [
    "Bis hierhin verhält sich Rust also wie modernes C++ mit RAII Pattern: Resource Acquisition Is Initialization"
   ]
  },
  {
   "cell_type": "markdown",
   "metadata": {
    "slideshow": {
     "slide_type": "subslide"
    }
   },
   "source": [
    "## Ownership: Zugehörigkeit verschieben (Move Semantics)\n"
   ]
  },
  {
   "cell_type": "code",
   "execution_count": null,
   "metadata": {
    "slideshow": {
     "slide_type": "fragment"
    }
   },
   "outputs": [],
   "source": [
    "let s1 = String::from(\"hello\");\n",
    "let s2 = s1;\n",
    "println!(\"{}, world!\", s1);"
   ]
  },
  {
   "cell_type": "markdown",
   "metadata": {
    "slideshow": {
     "slide_type": "fragment"
    }
   },
   "source": [
    "<img align=\"left\" width=\"450\" height=\"600\" src=\"https://doc.rust-lang.org/book/img/trpl04-04.svg\">\n",
    "Um eine doppelte Referenz zu vermeiden (und folglich ein Double-Free), wird s1 ungültig, sobald die Referenz verschoben wird (\"Move\"). Das ist der wesentliche Unterschied zur \"Shallow-Copy\" in anderen Sprachen (Dort wird [Pointer, Länge, Kapazität] auch kopiert, aber beide Referenzen werden behalten)"
   ]
  },
  {
   "cell_type": "markdown",
   "metadata": {
    "slideshow": {
     "slide_type": "subslide"
    }
   },
   "source": [
    "# Konzept Borrowing\n",
    "- Rust erlaubt es, eine Referenz auf einen Wert zu erstellen, ohne den Besitz zu übernehmen\n",
    "- Es gibt zwei Arten von Referenzen: mutable und immutable\n",
    "- Es kann beliebig viele immutable Referenzen geben, aber nur eine mutable Referenz\n",
    "- Referenzen müssen immer gültig sein, solange sie existieren\n",
    "- Referenzen können nicht über den Gültigkeitsbereich des Besitzers hinausgehen\n",
    "- Referenzen besitzen nie den Wert, auf den sie zeigen, die Ownership bleibt beim Besitzer\n",
    "- Borrowing ist eine der wichtigsten Eigenschaften von Rust, die es erlaubt, Memory Safety zu garantieren"
   ]
  },
  {
   "cell_type": "markdown",
   "metadata": {
    "slideshow": {
     "slide_type": "slide"
    }
   },
   "source": [
    "## Offizielle Resourcen  \n",
    " - [Offizielle Seite von Rust-Lang](https://www.rust-lang.org/)\n",
    " - [Offizielle Rust Learning Resourcen](https://www.rust-lang.org/learn) Enthält ganze Bücher für Sprache/Toolchain/WASM/Embedded und interaktive Kurse\n",
    " \n",
    "## Weitere Resourcen (Dev Blogs, Awesome-Lists)\n",
    " - [Why Rust is the Future of Game Development](https://thefuntastic.com/blog/why-rust-is-the-future-game-dev) Klickköder Titel aber sehr objektive und weitreichende Informationen\n",
    " - [rust dev withoutboats' blog](https://without.boats/blog/) Inhalte für technisch interessierte aus Rust dev sicht\n",
    " - [Awesome Rust Liste](https://github.com/rust-unofficial/awesome-rust) Überblick über die reifsten Bibliotheken je Kategorie\n",
    " - [AreWeWebYet](https://www.arewewebyet.org/) Sind wir schon bereit für ... web?\n",
    " - [AreWeGUIYet](https://www.areweguiyet.com/) Sind wir schon bereit für ... GUI?\n",
    " - [AreWeGameYet](https://arewegameyet.rs/) Sind wir schon bereit für ... games?\n",
    " - [AreWeIDEYet](https://areweideyet.com/) Sind wir schon bereit für ... IDEs?\n",
    " \n",
    " "
   ]
  },
  {
   "cell_type": "markdown",
   "metadata": {},
   "source": []
  }
 ],
 "metadata": {
  "celltoolbar": "Slideshow",
  "kernelspec": {
   "display_name": ".venv",
   "language": "python",
   "name": "python3"
  },
  "language_info": {
   "codemirror_mode": "rust",
   "file_extension": ".rs",
   "mimetype": "text/rust",
   "name": "python",
   "pygment_lexer": "rust",
   "version": "3.11.8"
  }
 },
 "nbformat": 4,
 "nbformat_minor": 4
}
